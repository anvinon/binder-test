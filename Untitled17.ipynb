{
  "nbformat": 4,
  "nbformat_minor": 0,
  "metadata": {
    "colab": {
      "name": "Untitled17.ipynb",
      "version": "0.3.2",
      "provenance": [],
      "include_colab_link": true
    },
    "kernelspec": {
      "name": "python3",
      "display_name": "Python 3"
    }
  },
  "cells": [
    {
      "cell_type": "markdown",
      "metadata": {
        "id": "view-in-github",
        "colab_type": "text"
      },
      "source": [
        "<a href=\"https://colab.research.google.com/github/anvinon/binder-test/blob/master/Untitled17.ipynb\" target=\"_parent\"><img src=\"https://colab.research.google.com/assets/colab-badge.svg\" alt=\"Open In Colab\"/></a>"
      ]
    },
    {
      "metadata": {
        "id": "fNC9cutHIK2L",
        "colab_type": "code",
        "colab": {
          "base_uri": "https://localhost:8080/",
          "height": 221
        },
        "outputId": "6e0f39e4-2e67-4b5d-dae0-0e89d24810ab"
      },
      "cell_type": "code",
      "source": [
        "!pip install feedparser\n",
        "!pip install feedgenerator"
      ],
      "execution_count": 27,
      "outputs": [
        {
          "output_type": "stream",
          "text": [
            "Requirement already satisfied: feedparser in /usr/local/lib/python3.6/dist-packages (5.2.1)\n",
            "Collecting feedgenerator\n",
            "\u001b[?25l  Downloading https://files.pythonhosted.org/packages/eb/02/7069b3dbc6ea92f034e07f9f9adc2193cd02d1aedf2cf9ec71150102a964/feedgenerator-1.9.tar.gz (4.1MB)\n",
            "\u001b[K    100% |████████████████████████████████| 4.1MB 1.1MB/s \n",
            "\u001b[?25hRequirement already satisfied: pytz>=0a in /usr/local/lib/python3.6/dist-packages (from feedgenerator) (2018.9)\n",
            "Requirement already satisfied: six in /usr/local/lib/python3.6/dist-packages (from feedgenerator) (1.11.0)\n",
            "Building wheels for collected packages: feedgenerator\n",
            "  Building wheel for feedgenerator (setup.py) ... \u001b[?25ldone\n",
            "\u001b[?25h  Stored in directory: /root/.cache/pip/wheels/ac/c9/63/61e224fe1b2442b36e18f2e1c13b97fa4ce3ba7211d92f9401\n",
            "Successfully built feedgenerator\n",
            "Installing collected packages: feedgenerator\n",
            "Successfully installed feedgenerator-1.9\n"
          ],
          "name": "stdout"
        }
      ]
    },
    {
      "metadata": {
        "id": "j9AUhvV8O01p",
        "colab_type": "code",
        "colab": {}
      },
      "cell_type": "code",
      "source": [
        "import feedparser as fp\n",
        "import pprint\n",
        "from django.utils import feedgenerator\n",
        "import datetime\n",
        "\n",
        "feed = feedgenerator.Rss201rev2Feed(title=\"Takeshi Ishikawa Blockchain RSS\", link=\"anvinon.com\", description=\"RSS feeds of Blockchain selected by Takeshi Ishikawa\", language=\"jp\")\n",
        "\n",
        "gn_sc__u = fp.parse('https://news.google.com/rss/search?q=%E3%82%B9%E3%83%9E%E3%83%BC%E3%83%88%E3%82%B3%E3%83%B3%E3%83%88%E3%83%A9%E3%82%AF%E3%83%88&amp;hl=ja&amp;gl=JP&amp;ceid=JP:ja')\n",
        "for entry in gn_sc__u['entries']:\n",
        "    feed.add_item(title = entry['title'], link = entry['link'], description = entry['description'] , pubdate = datetime.datetime.now())    \n",
        "  \n",
        "gn_bc__u = fp.parse('https://news.google.com/rss/search?q=%E3%83%96%E3%83%AD%E3%83%83%E3%82%AF%E3%83%81%E3%82%A7%E3%83%BC%E3%83%B3&amp;hl=ja&amp;gl=JP&amp;ceid=JP:ja')\n",
        "for entry in gn_bc__u['entries']:\n",
        "    feed.add_item(title = entry['title'], link = entry['link'], description = entry['description'] , pubdate = datetime.datetime.now())    \n",
        "  \n",
        "gn_bce__u = fp.parse('https://news.google.com/rss/search?q=%E3%83%96%E3%83%AD%E3%83%83%E3%82%AF%E3%83%81%E3%82%A7%E3%83%BC%E3%83%B3%E3%82%A8%E3%83%B3%E3%82%B8%E3%83%8B%E3%82%A2&amp;hl=ja&amp;gl=JP&amp;ceid=JP:ja')  \n",
        "for entry in gn_bce__u['entries']:\n",
        "    feed.add_item(title = entry['title'], link = entry['link'], description = entry[\"description\"] , pubdate = datetime.datetime.now())    \n",
        "\n",
        "note__u = fp.parse('https://note.mu/hashtag/%E3%83%96%E3%83%AD%E3%83%83%E3%82%AF%E3%83%81%E3%82%A7%E3%83%BC%E3%83%B3/rss')  \n",
        "for entry in note__u['entries']:\n",
        "    feed.add_item(title = entry['title'], link = entry['link'], description = entry[\"description\"] , pubdate = datetime.datetime.now())    \n",
        "\n",
        "bit_days__u = fp.parse('https://bitdays.jp/feed')  \n",
        "for entry in bit_days__u['entries']:\n",
        "    feed.add_item(title = entry['title'], link = entry['link'], description = entry[\"description\"] , pubdate = datetime.datetime.now())    \n",
        "\n",
        "dapps_m__u = fp.parse('https://dappsmarket.net/feed')  \n",
        "for entry in dapps_m__u['entries' ]:\n",
        "    feed.add_item(title = entry['title'], link = entry['link'], description = entry[\"description\"] , pubdate = datetime.datetime.now())    \n",
        "\n",
        "e2__u = fp.parse('https://economies2.com/feed/')  \n",
        "for entry in e2__u['entries']:\n",
        "    feed.add_item(title = entry['title'], link = entry['link'], description = entry[\"description\"] , pubdate = datetime.datetime.now())    \n",
        "  \n",
        "stay_c__u = fp.parse('http://staycreative.jp/feed/')  \n",
        "for entry in stay_c__u['entries']:\n",
        "    feed.add_item(title = entry['title'], link = entry['link'], description = entry[\"description\"] , pubdate = datetime.datetime.now())    \n",
        "  \n",
        "bbc__u = fp.parse('http://doublehash.me/feed')  \n",
        "for entry in bbc__u['entries']:\n",
        "    feed.add_item(title = entry['title'], link = entry['link'], description = entry[\"description\"] , pubdate = datetime.datetime.now())    \n",
        "\n",
        "ccn__u = fp.parse('https://cryptocurrency-news.mobi/?feed=atom&amp;cat=6')  \n",
        "for entry in ccn__u['entries']:\n",
        "    feed.add_item(title = entry['title'], link = entry['link'], description = entry[\"description\"] , pubdate = datetime.datetime.now())    \n",
        "\n",
        "bbiz__u = fp.parse('https://gaiax-blockchain.com/feed')  \n",
        "for entry in bbiz__u['entries']:\n",
        "    feed.add_item(title = entry['title'], link = entry['link'], description = entry[\"description\"] , pubdate = datetime.datetime.now())    \n",
        "\n",
        "bcbiz__u = fp.parse('http://businessblockchain.org/feed')  \n",
        "for entry in bcbiz__u['entries']:\n",
        "    feed.add_item(title = entry['title'], link = entry['link'], description = entry[\"description\"] , pubdate = datetime.datetime.now())    \n",
        "\n",
        "mbce__u = fp.parse('http://www.blockchainengineer.tokyo/feed')  \n",
        "for entry in mbce__u['entries']:\n",
        "    feed.add_item(title = entry['title'], link = entry['link'], description = entry[\"description\"] , pubdate = datetime.datetime.now())    \n",
        "\n",
        "cpost__u = fp.parse('http://coinpost.jp/?feed=rss2')  \n",
        "for entry in cpost__u['entries']:\n",
        "    feed.add_item(title = entry['title'], link = entry['link'], description = entry[\"description\"] , pubdate = datetime.datetime.now())    \n",
        "\n",
        "q__u = fp.parse('https://qiita.com/tags/blockchain/feed')  \n",
        "for entry in q__u['entries']:\n",
        "    feed.add_item(title = entry['title'], link = entry['link'], description = entry[\"description\"] , pubdate = datetime.datetime.now())    \n",
        "\n",
        "bc_jp__u = fp.parse('http://block-chain.jp/feed/')  \n",
        "for entry in bc_jp__u['entries']:\n",
        "    feed.add_item(title = entry['title'], link = entry['link'], description = entry[\"description\"] , pubdate = datetime.datetime.now())    \n",
        "\n",
        "cripcy__u = fp.parse('https://cripcy.jp/tag/%E3%83%96%E3%83%AD%E3%83%83%E3%82%AF%E3%83%81%E3%82%A7%E3%83%BC%E3%83%B3/feed')  \n",
        "for entry in cripcy__u['entries']:\n",
        "    feed.add_item(title = entry['title'], link = entry['link'], description = entry[\"description\"] , pubdate = datetime.datetime.now())    \n",
        "  \n",
        "ctelegraph__u = fp.parse('https://jp.cointelegraph.com/rss')  \n",
        "for entry in ctelegraph__u['entries']:\n",
        "    feed.add_item(title = entry['title'], link = entry['link'], description = entry[\"description\"] , pubdate = datetime.datetime.now())    \n",
        "  \n",
        "  \n",
        "with open('test.rss', 'w') as fp:\n",
        "    feed.write(fp, 'utf-8')\n",
        "\n"
      ],
      "execution_count": 0,
      "outputs": []
    },
    {
      "metadata": {
        "id": "IXiN2v8TRmwm",
        "colab_type": "code",
        "colab": {}
      },
      "cell_type": "code",
      "source": [
        ""
      ],
      "execution_count": 0,
      "outputs": []
    }
  ]
}
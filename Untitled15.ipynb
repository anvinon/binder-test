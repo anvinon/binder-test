{
  "nbformat": 4,
  "nbformat_minor": 0,
  "metadata": {
    "colab": {
      "name": "Untitled15.ipynb",
      "version": "0.3.2",
      "provenance": [],
      "include_colab_link": true
    },
    "kernelspec": {
      "name": "python3",
      "display_name": "Python 3"
    }
  },
  "cells": [
    {
      "cell_type": "markdown",
      "metadata": {
        "id": "view-in-github",
        "colab_type": "text"
      },
      "source": [
        "<a href=\"https://colab.research.google.com/github/anvinon/binder-test/blob/master/Untitled15.ipynb\" target=\"_parent\"><img src=\"https://colab.research.google.com/assets/colab-badge.svg\" alt=\"Open In Colab\"/></a>"
      ]
    },
    {
      "metadata": {
        "id": "4_56g7CIbV1q",
        "colab_type": "code",
        "colab": {
          "base_uri": "https://localhost:8080/",
          "height": 88
        },
        "outputId": "b7913bec-ed63-4b5a-ec85-4daa06084a5d"
      },
      "cell_type": "code",
      "source": [
        "import datetime\n",
        "import requests\n",
        "import time\n",
        "\n",
        "url = 'https://api.syosetu.com/novelapi/api/?out=json&biggenre=2&order=hyoka&lastup=sevenday'\n",
        "req = requests.get(url)\n",
        "print(req.json())\n",
        "\n",
        "\n",
        "\n",
        "\n",
        "\n",
        "# today = datetime.date.today()\n",
        "# print(today)\n",
        "# JST = datetime.timezone(datetime.timedelta(hours=+9), 'JST')\n",
        "# now = time.time()\n",
        "# loc = datetime.datetime.fromtimestamp(now, JST)\n",
        "# print(loc.timestamp())"
      ],
      "execution_count": 43,
      "outputs": [
        {
          "output_type": "stream",
          "text": [
            "[{'allcount': 7113}, {'title': 'デスマーチからはじまる異世界狂想曲（ web版 ）', 'ncode': 'N9902BN', 'userid': 282802, 'writer': '愛七ひろ', 'story': '◆カドカワBOOKSより、書籍版15巻+EX巻、コミカライズ版7+EX巻発売中！\\u3000アニメBDは6巻まで発売中。\\n【【【アニメ版の感想は活動報告の方にお願いします！】】】\\n※書籍版とＷＥＢ版は順番や内容が異なる箇所があります。ComicWalkerで本作のコミカライズ版一話と最新話を無料で見られるのでそちらも宜しくです。◆\\n\\n\\u3000アラサープログラマー鈴木一郎は、普段着のままレベル１で、突然異世界にいる自分に気付く。３回だけ使える使い捨て大魔法「流星雨」によって棚ボタで高いレベルと財宝を手に入れた彼のする事は、異世界「観光」？\\n\\u3000３人の獣娘(2章登場)、紫髪美幼女＆黒髪美少女(3章登場)、無口エルフ＆奇行金髪美女(5章登場)達と旅する日々と、様々人々との出会いを描く物語です。たまに魔物や魔王との戦闘もありますが、基本はほのぼのファンタジーです。\\n\\n※感想返信が停止して申し訳ありません。\\u3000よくある質問の回答やＳＳなども活動報告の方に書いてあるので良かったらご覧下さい。 誤字報告は大歓迎ですが連載中の章以外は完結後に対応予定です。\\n【無断転載禁止】デスマーチからはじまる異世界狂想曲(web版)は「小説家になろう」でのみ投稿しています。', 'biggenre': 2, 'genre': 201, 'gensaku': '', 'keyword': 'R15 残酷な描写あり 異世界転生 異世界転移 異世界 チート ファンタジー デスマーチ 観光 幼女 ほのぼの 迷宮 エルフ 奴隷 ハーレム 旅', 'general_firstup': '2013-03-03 20:34:21', 'general_lastup': '2019-02-24 18:00:00', 'novel_type': 1, 'end': 1, 'general_all_no': 615, 'length': 2905432, 'time': 5811, 'isstop': 0, 'isr15': 1, 'isbl': 0, 'isgl': 0, 'iszankoku': 1, 'istensei': 1, 'istenni': 1, 'pc_or_k': 2, 'global_point': 408592, 'fav_novel_cnt': 151062, 'review_cnt': 20, 'all_point': 106468, 'all_hyoka_cnt': 11470, 'sasie_cnt': 0, 'kaiwaritu': 37, 'novelupdated_at': '2019-03-01 15:18:07', 'updated_at': '2019-03-01 20:22:23'}, {'title': 'とんでもスキルで異世界放浪メシ', 'ncode': 'N2710DB', 'userid': 679640, 'writer': '江口\\u3000連', 'story': '※タイトルが変更になります。\\n「とんでもスキルが本当にとんでもない威力を発揮した件について」→「とんでもスキルで異世界放浪メシ」\\n異世界召喚に巻き込まれた俺、向田剛志（むこうだ\\u3000つよし）。\\nステータスの鑑定で俺以外の３人の召喚者は職業欄に『異世界からやって来た勇者』となってるのに、俺だけ『巻き込まれた異世界人』となっていた。\\nスキルも聖剣術とか聖槍術とか聖魔法とかいろいろすごいのがそろっている。\\nそれなのに俺のは固有スキルで『ネットスーパー』だけだった。\\n戦闘スキルじゃない俺はすぐさま役立たず的な扱いに。\\nしかも、召喚した国の王様の言い分がいかにも胡散臭い。\\nネット小説を読むのを趣味にしていた俺は、諸々を総合した結果『ダメだ。これはあかんタイプの異世界召喚だ。』という結論に至った。\\nそして俺は召喚されたその日のうちに何やかや言いくるめて城から逃げ出したのだった。\\n', 'biggenre': 2, 'genre': 201, 'gensaku': '', 'keyword': 'R15 残酷な描写あり 異世界転移 異世界 ネットスーパー 勇者召喚 巻き込まれ ペットが最強 料理 ほのぼの のほほん 旅', 'general_firstup': '2016-01-05 01:24:12', 'general_lastup': '2019-02-25 22:35:41', 'novel_type': 1, 'end': 1, 'general_all_no': 459, 'length': 1452752, 'time': 2906, 'isstop': 0, 'isr15': 1, 'isbl': 0, 'isgl': 0, 'iszankoku': 1, 'istensei': 0, 'istenni': 1, 'pc_or_k': 2, 'global_point': 393815, 'fav_novel_cnt': 149717, 'review_cnt': 85, 'all_point': 94381, 'all_hyoka_cnt': 10359, 'sasie_cnt': 1, 'kaiwaritu': 35, 'novelupdated_at': '2019-02-25 23:32:04', 'updated_at': '2019-03-01 20:48:41'}, {'title': '陰の実力者になりたくて！', 'ncode': 'N0611EM', 'userid': 298373, 'writer': '逢沢大介', 'story': '【3月5日書籍二巻発！】amazonにて予約購入できます！！\\n\\u3000月刊コンプエースにてコミカライズ連載中！\\n\\n\\u3000平凡なモブを演じる少年。だが真の実力は――最強。\\n\\n\\u3000そんな『陰の実力者』に憧れた少年は、修行中の事故で異世界に転生し、これ幸いと陰の実力者プレイを楽しんでいた。\\n\\n\\u3000しかし成り行きで配下にした少女たちに勘違いされて、本人の知らぬところで本物の陰の実力者になっていた！？\\n\\n\\u3000陰の実力者プレイを楽しむ少年と、陰の実力者を本気で慕う配下が、やがて世界の闇を滅ぼす物語。\\n\\n', 'biggenre': 2, 'genre': 201, 'gensaku': '', 'keyword': 'R15 残酷な描写あり 異世界転生 陰の実力者(最強) 陰の組織(巨大化) 勘違い コメディ 中二病 主人公最強 俺ＴＵＥＥＥ 配下ＴＵＥＥＥ', 'general_firstup': '2017-12-31 19:58:20', 'general_lastup': '2019-02-23 00:00:00', 'novel_type': 1, 'end': 1, 'general_all_no': 181, 'length': 428281, 'time': 857, 'isstop': 0, 'isr15': 1, 'isbl': 0, 'isgl': 0, 'iszankoku': 1, 'istensei': 1, 'istenni': 0, 'pc_or_k': 2, 'global_point': 369534, 'fav_novel_cnt': 91824, 'review_cnt': 37, 'all_point': 185886, 'all_hyoka_cnt': 19612, 'sasie_cnt': 0, 'kaiwaritu': 38, 'novelupdated_at': '2019-03-01 23:42:33', 'updated_at': '2019-03-01 23:46:04'}, {'title': '私、能力は平均値でって言ったよね！', 'ncode': 'N6475DB', 'userid': 79012, 'writer': 'FUNA', 'story': 'アスカム子爵家長女、アデル・フォン・アスカムは、１０歳になったある日、強烈な頭痛と共に全てを思い出した。\\n\\u3000自分が以前、栗原海里（くりはらみさと）という名の１８歳の日本人であったこと、幼い少女を助けようとして命を落としたこと、そして、神様に出会ったことを……。\\n\\n\\u3000少々出来が良過ぎたために周りの期待が大きく、思うように生きることができなかった海里は、望みを尋ねる神様にこうお願いしたのであった。\\n『次の人生、能力は平均値でお願いします！』\\n\\n\\u3000なのに、何だか話が違うよ！\\n\\n\\u3000３つの名前を持つ少女、うっかりＳ級ハンターなんかにならないように気を付けて、普通に生きて行きます。\\n\\u3000だって、私はごく普通の、平凡な女の子なんだからね。いや、ホント。\\n\\nアース・スター エンターテイメントの、アース・スターノベルから書籍化されました。\\n皆様のおかげで、２０１８年１１月１５日、第９巻が発売です。\\n加筆修正、書き下ろし短編、その他として初版同梱ＳＳ、書店特典ＳＳが数種類です。よろしくお願い致します。(^^ゞ\\n\\nそして、ねこみんとさんによるコミックス１～３巻も、私の書き下ろし短編を収録して、好評発売中です。併せて、よろしくお願い致します。\\nそしてそして、何と、アニメ化企画が順調に進行中らしいですよ！(^^)/', 'biggenre': 2, 'genre': 201, 'gensaku': '', 'keyword': 'R15 残酷な描写あり 異世界転生 転生 チート 異世界 魔法 少女 学園 ギルド 魔物 女主人公', 'general_firstup': '2016-01-13 02:02:04', 'general_lastup': '2019-03-01 00:00:00', 'novel_type': 1, 'end': 1, 'general_all_no': 363, 'length': 1327389, 'time': 2655, 'isstop': 0, 'isr15': 1, 'isbl': 0, 'isgl': 0, 'iszankoku': 1, 'istensei': 1, 'istenni': 0, 'pc_or_k': 2, 'global_point': 319872, 'fav_novel_cnt': 117051, 'review_cnt': 27, 'all_point': 85770, 'all_hyoka_cnt': 9220, 'sasie_cnt': 0, 'kaiwaritu': 35, 'novelupdated_at': '2019-03-01 00:02:44', 'updated_at': '2019-03-01 20:48:58'}, {'title': '盾の勇者の成り上がり', 'ncode': 'N3009BK', 'userid': 172188, 'writer': 'アネコユサギ', 'story': '《アニメ公式サイト》http://shieldhero-anime.jp/\\n※WEB版と書籍版、アニメ版では内容に差異があります。\\n盾の勇者として異世界に召還された岩谷尚文。冒険三日目にして仲間に裏切られ、信頼と金銭を一度に失ってしまう。他者を信じられなくなった尚文が取った行動は……。サブタイトルに★と付いている話には挿絵が入っています。苦手な方はご注意ください。書籍化しました。槍の勇者のやり直し完結。真・槍の勇者のやり直し始めました。アニメ放送中です。', 'biggenre': 2, 'genre': 201, 'gensaku': '', 'keyword': '残酷な描写あり 異世界転移 裏切り 不信の主人公 ダーク系？ 成り上がり 盾の勇者 奴隷 男主人公', 'general_firstup': '2012-10-29 21:08:13', 'general_lastup': '2019-02-26 10:00:00', 'novel_type': 1, 'end': 1, 'general_all_no': 920, 'length': 3750609, 'time': 7502, 'isstop': 0, 'isr15': 0, 'isbl': 0, 'isgl': 0, 'iszankoku': 1, 'istensei': 0, 'istenni': 1, 'pc_or_k': 2, 'global_point': 311659, 'fav_novel_cnt': 120322, 'review_cnt': 37, 'all_point': 71015, 'all_hyoka_cnt': 7738, 'sasie_cnt': 1, 'kaiwaritu': 44, 'novelupdated_at': '2019-03-01 13:36:43', 'updated_at': '2019-03-01 20:19:47'}, {'title': 'そのおっさん、異世界で二周目プレイを満喫中', 'ncode': 'N2415EG', 'userid': 509642, 'writer': '月夜\\u3000涙（るい）', 'story': '4/28\\u3000Mノベルス様から書籍化されました。コミカライズも決定！\\n中年冒険者ユーヤは努力家だが才能がなく、報われない日々を送っていた。\\nある日、彼は社畜だった前世の記憶を取り戻し、かつてやり込んだゲーム世界に転生したと気付く。\\nさっそく隠し要素である、特典付きレベルリセットを試しレベルを初期化。さらにランダムであるはずのステータス上昇値を最大固定し、人生をやり直す。\\nゲーム知識、数十年間の冒険者として経験、鍛え抜かれた技で全てを掴む。三度目の人生、ついにおっさんの努力は報われる。', 'biggenre': 2, 'genre': 201, 'gensaku': '', 'keyword': 'R15 残酷な描写あり 異世界転生 大人な主人公 努力という名のチート 数十年の鍛錬 主人公最強 （予定） 異世界 チート 転生 ダンジョン探索 キツネ', 'general_firstup': '2017-09-12 16:21:34', 'general_lastup': '2019-02-27 20:02:12', 'novel_type': 1, 'end': 1, 'general_all_no': 161, 'length': 756456, 'time': 1513, 'isstop': 0, 'isr15': 1, 'isbl': 0, 'isgl': 0, 'iszankoku': 1, 'istensei': 1, 'istenni': 0, 'pc_or_k': 2, 'global_point': 296523, 'fav_novel_cnt': 87339, 'review_cnt': 20, 'all_point': 121845, 'all_hyoka_cnt': 13251, 'sasie_cnt': 0, 'kaiwaritu': 31, 'novelupdated_at': '2019-02-27 21:35:39', 'updated_at': '2019-03-01 21:10:52'}, {'title': '失格紋の最強賢者\\u3000～世界最強の賢者が更に強くなるために転生しました～', 'ncode': 'N5712DR', 'userid': 372494, 'writer': '進行諸島', 'story': 'とある世界に魔法戦闘を極め、『賢者』とまで呼ばれた者がいた。\\n彼は最強の戦術を求め、世界に存在するあらゆる魔法、戦術を研究し尽くした。\\u3000\\n\\nそうして導き出された結論は、『自分の体は魔法戦闘に向かない』という、あまりにも残酷なもの。\\u3000\\nそれでも彼は諦めなかった。\\u3000\\n\\n彼は自らの魂を魔術に封じ、遙か未来に生まれ変わる。\\u3000\\nそこで彼が見たものは変わり果てた世界と、信じられないまでに低レベルな魔法理論だった。\\n\\n★書籍版シリーズ累計１００万部突破！ ありがとうございます！★', 'biggenre': 2, 'genre': 201, 'gensaku': '', 'keyword': 'R15 残酷な描写あり チート ハーレム 主人公最強 転生 成り上がり テンプレ ご都合主義 異世界', 'general_firstup': '2016-12-12 21:32:20', 'general_lastup': '2019-02-27 19:00:00', 'novel_type': 1, 'end': 1, 'general_all_no': 262, 'length': 552111, 'time': 1105, 'isstop': 0, 'isr15': 1, 'isbl': 0, 'isgl': 0, 'iszankoku': 1, 'istensei': 0, 'istenni': 0, 'pc_or_k': 2, 'global_point': 290146, 'fav_novel_cnt': 115107, 'review_cnt': 10, 'all_point': 59932, 'all_hyoka_cnt': 6578, 'sasie_cnt': 0, 'kaiwaritu': 35, 'novelupdated_at': '2019-03-01 11:48:56', 'updated_at': '2019-03-01 20:59:31'}, {'title': '異世界転移で女神様から祝福を！\\u3000～いえ、手持ちの異能があるので結構です～', 'ncode': 'N2031CU', 'userid': 567554, 'writer': 'コーダ', 'story': '\\u3000放課後の学校に残っていた人がまとめて異世界に転移することになった。\\n\\u3000呼び出されたのは王宮で、魔王を倒してほしいと言われる。転移の際に1人1つギフトを貰い勇者と呼ばれるはずだが、主人公ともう1人の少女にはギフトがなかった。なぜか周りの人の目も冷たく、兵士によって2人は追い出されてしまう。\\n\\u30002人で王都を出て旅をする。行きがけの駄賃は兵士より奪ったスキルとステータス。\\n\\n\\u3000この作品は異世界に召喚された主人公が、仲間（概ね配下）を集めながら、観光したり戦闘したりする物語です。\\n\\u3000第1章：王国からの脱出。\\n\\u3000第2章：冒険者として活動。\\n\\u3000第3章：迷宮探索。\\n\\u3000第4章：魔物と戯れる。\\n\\u3000第5章：ドーラの里帰り\\n\\u3000第6章：和風の国を観光(戦争は導入だけ)\\n\\u3000第7章：エルディアと戦争？\\n\\u3000第8章：地元でゆっくり\\n\\u3000第9章：首脳会議の見学\\n\\u3000第10章：獣人の国にご招待\\n\\u3000第11章：？？？←いまここ\\n\\n\\u3000毎週日曜午前0時に更新予定です。余力がある場合は週の途中で短編を投稿いたします。\\n\\u3000ちょっと予定が変わって、0の付く日の0時更新中(月3回)です。', 'biggenre': 2, 'genre': 201, 'gensaku': '', 'keyword': 'R15 残酷な描写あり 異世界転生 異世界転移 異世界 ファンタジー チート ハーレム？ 主人公最強？ ご都合主義 奴隷', 'general_firstup': '2015-07-23 23:50:55', 'general_lastup': '2019-02-28 00:00:00', 'novel_type': 1, 'end': 1, 'general_all_no': 243, 'length': 2201999, 'time': 4404, 'isstop': 0, 'isr15': 1, 'isbl': 0, 'isgl': 0, 'iszankoku': 1, 'istensei': 1, 'istenni': 1, 'pc_or_k': 2, 'global_point': 249251, 'fav_novel_cnt': 96969, 'review_cnt': 11, 'all_point': 55313, 'all_hyoka_cnt': 6036, 'sasie_cnt': 0, 'kaiwaritu': 39, 'novelupdated_at': '2019-02-28 00:28:41', 'updated_at': '2019-03-01 20:43:33'}, {'title': 'レジェンド', 'ncode': 'N3726BT', 'userid': 177795, 'writer': '神無月\\u3000紅', 'story': '東北の田舎町に住んでいた佐伯玲二は夏休み中に事故によりその命を散らす。……だが、気が付くと白い世界に存在しており、目の前には得体の知れない光球が。その光球は異世界の魔術師であり、自分達の生み出した魔術を廃れさせない為にそれを継ぐ資格のある者を探していたという。その提案に乗った玲二は、新たなる肉体と強大な魔力を持って異世界エルジィンを生きていく。\\n\\nPVが11億、UAが5500万を突破しました。読んで下さった方、ありがとうございます。\\n\\nカドカワBOOKSより第12巻が発売しました。\\n\\nそれに伴い、設定を書籍版に準拠させて貰います。多少不都合が出てくる場所もあるかと思いますが、よろしくお願いします。', 'biggenre': 2, 'genre': 201, 'gensaku': '', 'keyword': 'R15 残酷な描写あり 異世界転移 ギルド 魔術 魔法 魔獣 吸収 スキル グリフォン ハーレム？', 'general_firstup': '2013-08-19 20:37:46', 'general_lastup': '2019-03-01 18:00:00', 'novel_type': 1, 'end': 1, 'general_all_no': 2022, 'length': 10582211, 'time': 21165, 'isstop': 0, 'isr15': 1, 'isbl': 0, 'isgl': 0, 'iszankoku': 1, 'istensei': 0, 'istenni': 1, 'pc_or_k': 2, 'global_point': 245129, 'fav_novel_cnt': 93149, 'review_cnt': 24, 'all_point': 58831, 'all_hyoka_cnt': 6537, 'sasie_cnt': 0, 'kaiwaritu': 32, 'novelupdated_at': '2019-03-01 20:19:48', 'updated_at': '2019-03-01 20:25:43'}, {'title': '進化の実～知らないうちに勝ち組人生～', 'ncode': 'N4054BY', 'userid': 349512, 'writer': '美紅', 'story': '柊誠一は、不細工・気持ち悪い・汚い・臭い・デブといった、罵倒する言葉が次々と浮かんでくるほどの容姿の持ち主だった。そんな誠一が何時も通りに学校で虐められ、何とか一日の学園生活を終えようとしていた時、突然放送のスピーカーから、神と名乗る声により、異世界に転送される事を伝えられる。それも、誠一一人では無く、通っている学園にいる全員がである。ゲームのようにレベルやステータス、スキルなどが存在するファンタジーな世界。しかし、色々な成り行きから転送は神が行うのではなく、異世界側の人間が勇者召喚の儀式をしていたために、そっちに引っ張られる事に。クラス全員でグループを作り、転移を待つなか、誠一だけはクラスメイトから拒絶され、一人違う場所へ転移することになる。転移先で初めて食べた、『進化の実』。これが、誠一の人生を大きく変えるモノになり――――。この物語は、誠一がクラスメイトから散々バカにされ、挙句の果てに仲間としてさえ認めてもらえないというのに、前向きに頑張って異世界を生き抜いて行く話しである。……結果、何時の間にか勝ち組に。＊深く考えず、頭を空っぽにして読むことをお勧めします。このたび書籍化することになりました。詳しくは、活動報告をご覧ください。', 'biggenre': 2, 'genre': 201, 'gensaku': '', 'keyword': 'R15 残酷な描写あり 異世界転移 冒険 異世界 主人公最強 ハーレム ステータス スキル 魔法 レベル 恋愛 成り上がり ギャグ', 'general_firstup': '2014-01-25 13:36:38', 'general_lastup': '2019-02-27 22:55:14', 'novel_type': 1, 'end': 1, 'general_all_no': 146, 'length': 994895, 'time': 1990, 'isstop': 0, 'isr15': 1, 'isbl': 0, 'isgl': 0, 'iszankoku': 1, 'istensei': 0, 'istenni': 1, 'pc_or_k': 2, 'global_point': 223606, 'fav_novel_cnt': 83293, 'review_cnt': 13, 'all_point': 57020, 'all_hyoka_cnt': 6261, 'sasie_cnt': 0, 'kaiwaritu': 45, 'novelupdated_at': '2019-02-27 22:55:14', 'updated_at': '2019-03-01 20:29:08'}, {'title': 'ライブダンジョン！', 'ncode': 'N6970DF', 'userid': 114030, 'writer': 'dy冷凍', 'story': 'ライブダンジョンという古いMMORPG。サービスが終了する前に五台のノートPCを駆使してクリアした京谷努は異世界へ誘われる。そして異世界でのダンジョン攻略をライブ中継で見た努は絶句した。戦略のせの字も無いゴリ押し。不遇のヒーラー職。ゲームでは白魔道士を愛用していた努は白魔道士の復権と、異世界脱出の鍵を求めダンジョン制覇を目指す。\\n12月10日にカドカワBOOKSより『ライブダンジョン！\\u3000支援回復のススメ』として発売されます。よろしくお願いします。', 'biggenre': 2, 'genre': 201, 'gensaku': '', 'keyword': 'R15 残酷な描写あり 異世界転移 ダンジョン 回復役 ヒーラー 白魔道士 知識チート 異世界 MMO ネトゲ', 'general_firstup': '2016-04-04 20:50:49', 'general_lastup': '2019-02-25 18:54:58', 'novel_type': 1, 'end': 1, 'general_all_no': 375, 'length': 1744328, 'time': 3489, 'isstop': 0, 'isr15': 1, 'isbl': 0, 'isgl': 0, 'iszankoku': 1, 'istensei': 0, 'istenni': 1, 'pc_or_k': 2, 'global_point': 207213, 'fav_novel_cnt': 70001, 'review_cnt': 23, 'all_point': 67211, 'all_hyoka_cnt': 7116, 'sasie_cnt': 0, 'kaiwaritu': 51, 'novelupdated_at': '2019-02-26 07:29:53', 'updated_at': '2019-03-01 20:51:51'}, {'title': '転生賢者の異世界ライフ\\u3000～第二の職業を得て、世界最強になりました～', 'ncode': 'N1793EI', 'userid': 372494, 'writer': '進行諸島', 'story': '\\u3000ブラック企業に酷使された男が転生したのは、ステータスやスキルのある世界。\\n\\n\\u3000その世界で彼は、冒険者になることさえ難しい不遇職『テイマー』になってしまう。\\n\\n\\u3000――しかし彼は、ひょんなことから２つめの職業『賢者』を手に入れる。\\n\\u3000『賢者』の力は、圧倒的なものだった。\\n\\n\\u3000だが異世界に来たばかりの彼は、自分の力がどれほどのものか自覚していなかった。\\n\\u3000こうして彼は、自分の力を自覚しないままギルドに行って冒険者となり、各地で騒ぎを起こしながらも成り上がっていく。\\n\\n※タイトル変更しました（旧タイトル：転生賢者の異世界ライフ）。', 'biggenre': 2, 'genre': 201, 'gensaku': '', 'keyword': 'R15 残酷な描写あり 異世界転移 主人公最強 チート 異世界 テンプレ スキル ステータス スライム', 'general_firstup': '2017-10-17 22:08:17', 'general_lastup': '2019-02-26 19:00:00', 'novel_type': 1, 'end': 1, 'general_all_no': 109, 'length': 212883, 'time': 426, 'isstop': 0, 'isr15': 1, 'isbl': 0, 'isgl': 0, 'iszankoku': 1, 'istensei': 0, 'istenni': 1, 'pc_or_k': 2, 'global_point': 204936, 'fav_novel_cnt': 79663, 'review_cnt': 1, 'all_point': 45610, 'all_hyoka_cnt': 5016, 'sasie_cnt': 0, 'kaiwaritu': 35, 'novelupdated_at': '2019-03-01 11:48:31', 'updated_at': '2019-03-01 21:12:27'}, {'title': 'マギクラフト・マイスター', 'ncode': 'N7648BN', 'userid': 138352, 'writer': '秋ぎつね', 'story': '\\u3000世界でただ一人のマギクラフト・マイスター。その後継者に選ばれた主人公。現代地球から異世界に召喚された主人公が趣味の工作工芸に明け暮れる話、の筈なのですがやはり異世界に付きもののあれこれもついて回ると思います。\\n\\u3000普通は性能や装備での劣勢を主人公が技術や技能や精神力やらで跳ね返すのですが、本作ではむしろ性能や装備が相手より上回っています。\\n\\u3000魔法は神秘の力というよりも、物理法則を支配する超物理的な力という扱いをします。\\n\\u3000ですので精霊とか妖精などは多分出ません。\\n\\u3000参考資料として、簡単な地図やヒロインイラストを載せてみました。ときどき密かに更新したりしてます。その際はタイトル中の日付が変わります。\\n\\u3000＊おかげさまをもちましてＭＦブックス様より書籍化していただき、14巻で綺麗にまとまりました。\\n＊＊さらにコミカライズもスタート！\\u3000３巻まで好評発売中！\\u3000また、コミックウォーカー様でご覧いただけます。', 'biggenre': 2, 'genre': 201, 'gensaku': '', 'keyword': 'R15 残酷な描写あり 異世界転移 ファンタジー 異世界 魔法 人形 ゴーレム オートマタ 現代技術 創作系 恋愛鈍感主人公 生産系チート SF', 'general_firstup': '2013-02-24 15:14:58', 'general_lastup': '2019-03-01 12:00:00', 'novel_type': 1, 'end': 1, 'general_all_no': 2165, 'length': 6452662, 'time': 12906, 'isstop': 0, 'isr15': 1, 'isbl': 0, 'isgl': 0, 'iszankoku': 1, 'istensei': 0, 'istenni': 1, 'pc_or_k': 2, 'global_point': 204165, 'fav_novel_cnt': 73394, 'review_cnt': 7, 'all_point': 57377, 'all_hyoka_cnt': 6337, 'sasie_cnt': 63, 'kaiwaritu': 48, 'novelupdated_at': '2019-03-01 22:33:10', 'updated_at': '2019-03-01 22:36:28'}, {'title': '異世界はスマートフォンとともに。', 'ncode': 'N1443BP', 'userid': 317945, 'writer': '冬原パトラ', 'story': '\\u3000神様の手違いで死んでしまった主人公は、異世界で第二の人生をスタートさせる。彼にあるのは神様から底上げしてもらった身体と、異世界でも使用可能にしてもらったスマートフォン。様々な人たちと出会い、大切な仲間を得ていく中で、いつしか主人公はこの世界の秘密を知る。古代文明の遺産を受け継ぎ、お気楽な世界の王たちと力を合わせながら、彼はのほほんと世界を巡っていく。\\n\\n■ホビージャパン様よりHJノベルスから書籍化されました。1〜15巻発売中です。\\n■月刊コンプエースでそと先生による本作品のコミカライズが始まりました。１〜５巻発売中。\\n■2017年・夏、TVアニメ化されました。Blu-ray、DVD全四巻発売中。\\n■ちょこちょこ細かいところをよく修正しますが、大きなストーリー変化はございません。', 'biggenre': 2, 'genre': 201, 'gensaku': '', 'keyword': 'R15 残酷な描写あり 異世界転移 ファンタジー 12歳の嫁 剣と魔法 ハーレム スマートフォン 巨大ロボット 新型開発 領地経営', 'general_firstup': '2013-04-08 02:28:15', 'general_lastup': '2019-02-25 21:50:20', 'novel_type': 1, 'end': 1, 'general_all_no': 489, 'length': 2569080, 'time': 5139, 'isstop': 0, 'isr15': 1, 'isbl': 0, 'isgl': 0, 'iszankoku': 1, 'istensei': 0, 'istenni': 1, 'pc_or_k': 2, 'global_point': 202028, 'fav_novel_cnt': 80505, 'review_cnt': 17, 'all_point': 41018, 'all_hyoka_cnt': 4506, 'sasie_cnt': 47, 'kaiwaritu': 45, 'novelupdated_at': '2019-02-25 21:50:20', 'updated_at': '2019-03-01 20:23:02'}, {'title': '転生したらドラゴンの卵だった～最強以外目指さねぇ～', 'ncode': 'N4698CV', 'userid': 625518, 'writer': '猫子', 'story': '\\u3000目が覚めたとき、そこは見知らぬ森だった。\\n\\u3000どうやらここは異形の魔獣が蔓延るファンタジー世界らしく、どころかゲームのように敵や自分の能力値を調べることができるようだ。\\n\\u3000魔獣を狩ってＬｖアップ、〖称号〗を掻き集めて上級ドラゴンに進化！\\n\\u3000頭に響く謎の声が急かす。俺に【最強を目指せ】ってな！\\n\\n※アース・スターノベル様から書籍化しました！', 'biggenre': 2, 'genre': 201, 'gensaku': '', 'keyword': '異世界転生 人外転生 レベリング 進化 異世界', 'general_firstup': '2015-08-20 12:14:18', 'general_lastup': '2019-02-24 23:33:18', 'novel_type': 1, 'end': 1, 'general_all_no': 522, 'length': 1499605, 'time': 3000, 'isstop': 0, 'isr15': 0, 'isbl': 0, 'isgl': 0, 'iszankoku': 0, 'istensei': 1, 'istenni': 0, 'pc_or_k': 2, 'global_point': 193785, 'fav_novel_cnt': 74394, 'review_cnt': 12, 'all_point': 44997, 'all_hyoka_cnt': 4880, 'sasie_cnt': 0, 'kaiwaritu': 13, 'novelupdated_at': '2019-02-28 22:43:44', 'updated_at': '2019-03-01 20:44:26'}, {'title': '黒の魔王', 'ncode': 'N2627T', 'userid': 149409, 'writer': '菱影代理', 'story': '黒乃真央は悪い目つきを気にする男子高校生。彼女はいないがそれなりに友人にも恵まれ平和な高校生活を謳歌していた。しかしある日突然、何の前触れも無く黒乃は所属する文芸部の部室で謎の頭痛に襲われ気絶。次に目覚めた時には……。剣と魔法、モンスターの闊歩するオーソドックスな異世界召喚モノ！\\u3000※この度、晴れてコミカライズしました！\\u3000『コミックウォーカー』『ニコニコ静画』でどうぞご覧ください。これからは、なろう版、書籍版、コミカライズ、ともによろしくお願いいたします！', 'biggenre': 2, 'genre': 201, 'gensaku': '', 'keyword': 'R15 残酷な描写あり 異世界転移 ファンタジー 異世界 架空戦記 魔法 魔王 シリアス 国家/民族 冒険者 ヤンデレ', 'general_firstup': '2011-05-14 16:48:08', 'general_lastup': '2019-03-01 17:00:00', 'novel_type': 1, 'end': 1, 'general_all_no': 704, 'length': 4140153, 'time': 8281, 'isstop': 0, 'isr15': 1, 'isbl': 0, 'isgl': 0, 'iszankoku': 1, 'istensei': 0, 'istenni': 1, 'pc_or_k': 2, 'global_point': 192382, 'fav_novel_cnt': 67138, 'review_cnt': 29, 'all_point': 58106, 'all_hyoka_cnt': 6252, 'sasie_cnt': 0, 'kaiwaritu': 36, 'novelupdated_at': '2019-03-01 17:01:23', 'updated_at': '2019-03-01 20:11:56'}, {'title': '神達に拾われた男（改訂版）', 'ncode': 'N5824CT', 'userid': 413779, 'writer': 'Roy', 'story': '●書籍1～5巻、ホビージャパン様のHJノベルスより発売中です。\\n●コミカライズ、スクウェア・エニックス様のマンガUP！、ガンガンONLINEにて連載中。コミックス1～2巻、発売中です。\\n\\n日本に生まれた運の悪い男は、39でその一生を終えた。\\nしかし死後、三柱の神に協力する代わりに異世界で新しい人生を送ることになる。\\n\\nこの小説は「神達に拾われた男」を書き直した物です。', 'biggenre': 2, 'genre': 201, 'gensaku': '', 'keyword': 'R15 残酷な描写あり 異世界転移 冒険 スライム 魔法 異世界 男主人公', 'general_firstup': '2015-07-10 11:19:03', 'general_lastup': '2019-02-25 16:00:00', 'novel_type': 1, 'end': 1, 'general_all_no': 186, 'length': 893946, 'time': 1788, 'isstop': 0, 'isr15': 1, 'isbl': 0, 'isgl': 0, 'iszankoku': 1, 'istensei': 0, 'istenni': 1, 'pc_or_k': 2, 'global_point': 191538, 'fav_novel_cnt': 79963, 'review_cnt': 0, 'all_point': 31612, 'all_hyoka_cnt': 3406, 'sasie_cnt': 0, 'kaiwaritu': 56, 'novelupdated_at': '2019-02-26 02:31:17', 'updated_at': '2019-03-01 20:43:01'}, {'title': '賢者の弟子を名乗る賢者', 'ncode': 'N6829BD', 'userid': 219549, 'writer': 'りゅうせんひろつぐ', 'story': '仮想空間に構築された世界の一つ。鑑(かがみ)は、その世界で九賢者という術士の最高位に座していた。\\nある日、徹夜の疲れから仮想空間の中で眠ってしまう。そして目を覚ますと、そこは今までの世界とは違い……。何よりも、慣れ親しんだ渋く老練とした威厳のある姿が、幼気な少女のものになってしまっていた。\\n何者かと問われ、正直に名乗れば今まで培ってきた荘厳なイメージを崩しかねない状況。そこで思いついた言い訳は……。', 'biggenre': 2, 'genre': 201, 'gensaku': '', 'keyword': '残酷な描写あり 異世界転移 冒険 VRMMO ファンタジー 異世界 性転換 MMO ロリババア TS ロリジジイ？', 'general_firstup': '2012-04-04 12:37:30', 'general_lastup': '2019-02-25 12:00:00', 'novel_type': 1, 'end': 1, 'general_all_no': 304, 'length': 2053451, 'time': 4107, 'isstop': 0, 'isr15': 0, 'isbl': 0, 'isgl': 0, 'iszankoku': 1, 'istensei': 0, 'istenni': 1, 'pc_or_k': 2, 'global_point': 190652, 'fav_novel_cnt': 70481, 'review_cnt': 12, 'all_point': 49690, 'all_hyoka_cnt': 5344, 'sasie_cnt': 0, 'kaiwaritu': 34, 'novelupdated_at': '2019-03-01 15:07:17', 'updated_at': '2019-03-01 20:16:17'}, {'title': '転生して田舎でスローライフをおくりたい', 'ncode': 'N5375CY', 'userid': 613697, 'writer': '錬金王', 'story': '働き過ぎて気付けばトラックにひかれてしまう主人公、伊中雄二。\\n「あー、こんなに働くんじゃなかった。次はのんびり田舎で暮らすんだ……」そんな雄二の願いが通じたのか、彼は神様と出会い異世界の田舎へと転生することになる。田舎貴族の次男アルフリート＝スロウレットとして新たな生をうけた彼は、楽しくのんびりと田舎でスローライフを送る？\\n宝島社様より書籍化が決定いたしました。\\n小説１巻から５巻、コミック１巻と２巻発売中です。\\nこのマンガがすごい！ Webにて漫画連載中。\\n小説６巻は１１月１０日発売です！', 'biggenre': 2, 'genre': 201, 'gensaku': '', 'keyword': 'R15 異世界転生 異世界 田舎 スローライフ なんちゃって内政 魔法 貴族 転生 ネット小説大賞 ファンタジー ネット小説賞感想希望 料理', 'general_firstup': '2015-11-02 02:07:05', 'general_lastup': '2019-02-28 12:00:00', 'novel_type': 1, 'end': 1, 'general_all_no': 384, 'length': 1457277, 'time': 2915, 'isstop': 0, 'isr15': 1, 'isbl': 0, 'isgl': 0, 'iszankoku': 0, 'istensei': 1, 'istenni': 0, 'pc_or_k': 2, 'global_point': 187203, 'fav_novel_cnt': 68323, 'review_cnt': 5, 'all_point': 50557, 'all_hyoka_cnt': 5517, 'sasie_cnt': 0, 'kaiwaritu': 39, 'novelupdated_at': '2019-02-28 12:03:57', 'updated_at': '2019-03-01 20:46:43'}, {'title': 'レベル１だけどユニークスキルで最強です', 'ncode': 'N2224DV', 'userid': 511777, 'writer': '三木なずな', 'story': 'コミカライズ連載中！（ニコニコ漫画・水曜日のシリウス内）\\n\\nブラック企業で過労死した佐藤亮太は異世界に転移して、レベルが１に固定される不遇を背負わされてしまう。\\nレベルは上がらない一方で、モンスターからその世界に存在しないはずのチートアイテムをドロップするという、彼だけのユニークスキルをもっていた。\\nそれを知った彼は能力アップアイテムでステータスＭＡＸになって、更に自分にしか使えない武器やアイテムの数々を揃えていき、レベル１のまま能力も装備も最強になっていった。', 'biggenre': 2, 'genre': 201, 'gensaku': '', 'keyword': 'R15 残酷な描写あり 異世界転移 ファンタジー ステータス 主人公最強 チート テンプレ 幸せ ストレスフリー ギルド 冒険者 ダンジョン 書籍化 コミカライズ化', 'general_firstup': '2017-02-24 00:22:07', 'general_lastup': '2019-02-28 18:00:00', 'novel_type': 1, 'end': 1, 'general_all_no': 419, 'length': 1216254, 'time': 2433, 'isstop': 0, 'isr15': 1, 'isbl': 0, 'isgl': 0, 'iszankoku': 1, 'istensei': 0, 'istenni': 1, 'pc_or_k': 2, 'global_point': 186773, 'fav_novel_cnt': 62548, 'review_cnt': 13, 'all_point': 61677, 'all_hyoka_cnt': 6714, 'sasie_cnt': 0, 'kaiwaritu': 42, 'novelupdated_at': '2019-03-01 17:05:00', 'updated_at': '2019-03-01 21:02:23'}]\n",
            "2019-03-01\n",
            "1551451867.305568\n"
          ],
          "name": "stdout"
        }
      ]
    },
    {
      "metadata": {
        "id": "xsEYf7DEjzrJ",
        "colab_type": "code",
        "colab": {
          "base_uri": "https://localhost:8080/",
          "height": 51
        },
        "outputId": "fd99d2da-a27a-41e8-8e24-6931e444aba7"
      },
      "cell_type": "code",
      "source": [
        "from pytz import timezone \n",
        "import datetime\n",
        "\n",
        "\n",
        "# utc_now = datetime.datetime.now(timezone('UTC'))  # calendar.timegm と異なり float の値が返される\n",
        "# jst_now = utc_now.astimezone(timezone('Asia/Tokyo'))\n",
        "# # print(type(jst_now))\n",
        "# # print(now)\n",
        "# # now = datetime.datetime.fromtimestamp(jst_now, tz=timezone('Asia/Tokyo'))\n",
        "# # print(now)\n",
        "\n",
        "\n",
        "# Python 3.3 以降では calendar モジュールを使わずに書けます\n",
        "# UTC の aware オブジェクト -> Unix time\n",
        "# unix_now = int(utc_now.timestamp())  # calendar.timegm と異なり float の値が返される\n",
        "# print(unix_now)\n",
        "\n",
        "now190227 = 1551193200\n",
        "now190228 = 1551279600\n",
        "\n",
        "\n",
        "# print(type(unix_now))\n"
      ],
      "execution_count": 42,
      "outputs": [
        {
          "output_type": "stream",
          "text": [
            "2019-03-01 14:38:24.363360\n",
            "1551450445\n"
          ],
          "name": "stdout"
        }
      ]
    },
    {
      "metadata": {
        "id": "yyvKv6VYoWH3",
        "colab_type": "code",
        "colab": {}
      },
      "cell_type": "code",
      "source": [
        ""
      ],
      "execution_count": 0,
      "outputs": []
    }
  ]
}